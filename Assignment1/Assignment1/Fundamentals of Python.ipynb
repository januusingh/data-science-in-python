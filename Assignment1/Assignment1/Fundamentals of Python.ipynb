{
 "cells": [
  {
   "cell_type": "markdown",
   "metadata": {},
   "source": [
    "## Fundamentals of Python\n",
    "\n",
    "We will be introducing the fundamentals of Python through Jupyter notebooks. [Python](https://www.python.org/) is an industry-standard programming language commonly used by students and professionals, because it is relatively easy to learn and has many open-source packages or libraries which enable you to write less but more powerful code.\n",
    "\n",
    "Python [packages](https://realpython.com/python-modules-packages/) are modules or pieces of software that can be easily downloaded from external sites using an external package manager called [pip](https://www.pythonforbeginners.com/basics/how-to-use-pip-and-pypi) or [conda](https://towardsdatascience.com/getting-started-with-python-environments-using-conda-32e9f2779307). You don't need to get into the specifics of those, but we can discuss them later. \n",
    "\n",
    "This assignment will give you a brief overview of the following concepts:\n",
    "1. Jupyter\n",
    "2. Python Basics"
   ]
  },
  {
   "cell_type": "markdown",
   "metadata": {},
   "source": [
    "## Jupyter Notebooks\n",
    "\n",
    "#### What Is a Jupyter Notebook?\n",
    "\"In this case, \"notebook\" or \"notebook documents\" denote documents that contain both code and rich text elements, such as figures, links, equations, ... Because of the mix of code and text elements, these documents are the ideal place to bring together an analysis description, and its results, as well as, they can be executed perform the data analysis in real time.\n",
    "\n",
    "The Jupyter Notebook App produces these documents.\" - DataCamp\n",
    "\n",
    "Jupyter notebooks are also often referred to as interactive Python or \"iPython\" notebooks, because you can visualize Python outputs while also running code at the same time. Read the official Jupyter [documentation](https://jupyter-notebook-beginner-guide.readthedocs.io/en/latest/execute.html) to better understand the software.\n",
    "\n",
    "#### How Can I Use a Jupyter Notebook?\n",
    "You can run cells by clicking the \"Run\" button in the top menu bar or pressing \"Shift\" and \"Enter\" at the same time on your keyboard. You can run each cell individually, which helps make Jupyter so powerful. You can read this [tutorial](https://levelup.gitconnected.com/jupyter-notebook-for-beginners-7cddae3d5466) for more Essential Keyboard Shortcuts.\n",
    "\n",
    "\n",
    "#### How Can I Save My Jupyter Notebook?\n",
    "Press the Disk button in the top left corner to \"Save and Checkpoint your notebook\". This is to ensure that you don't loose any important information.\n",
    "\n",
    "Side note: Python scripts are saved with \".py\" extensions (Ex: \"sample.py\"), while Jupyter notebooks are saved with \".ipynb\" extensions (\"Sample.ipynb\"). You don't really need to know the distinction between the two right now."
   ]
  },
  {
   "cell_type": "markdown",
   "metadata": {},
   "source": [
    "## Python Basics\n",
    "\n",
    "This [tutorial](https://www.learnpython.org/) will give you a good understand of Python Fundamentals. Only complete the \"Learn the Basics\" topics for now, as they are super important for this project. Here are some additional resources that may help you if you are confused:\n",
    "\n",
    "1. Learn Python - Full Course for Beginners [Youtube tutorial](https://www.youtube.com/watch?v=rfscVS0vtbw)\n",
    "2. Python Tutorials for Beginners [Youtube tutorial](https://youtu.be/yE9v9rt6ziw?t=1724) (Only need to follow starting 28:30 from Variables on the video)\n",
    "3. Other Python [tutorials](https://stackify.com/learn-python-tutorials/). If you would rather learn Python from the other resources listed, go ahead!\n",
    "\n",
    "At the end of this section, you should be able to understand these concepts:\n",
    "1. Variables/ Data Types\n",
    "2. Lists\n",
    "3. Booleans/ Strings\n",
    "4. Conditions\n",
    "5. Lists\n",
    "6. Loops\n",
    "7. Functions\n",
    "8. Classes/ Objects\n",
    "9. Dictionaries\n",
    "\n",
    "Complete the exercises below:"
   ]
  },
  {
   "cell_type": "code",
   "execution_count": null,
   "metadata": {},
   "outputs": [],
   "source": [
    "# REPLACE THIS LINE to print \"Hello World!\""
   ]
  },
  {
   "cell_type": "code",
   "execution_count": null,
   "metadata": {},
   "outputs": [],
   "source": [
    "# Math Operations\n",
    "x = 2\n",
    "y = 3\n",
    "\n",
    "xy_sum = # REPLACE THIS LINE to compute the SUM of x and y\n",
    "xy_prod = # REPLACE THIS LINE to compute the PRODUCT of x and y\n",
    "xy_sub = # REPLACE THIS LINE to SUBTRACT y from x\n",
    "xy_div = # REPLACE THIS LINE to DIVIDE x over y\n",
    "\n",
    "xy_sum, xy_prod, x_sub, xy_div"
   ]
  },
  {
   "cell_type": "code",
   "execution_count": null,
   "metadata": {},
   "outputs": [],
   "source": [
    "# Write a conditional statement to set answer to True if x is greater than\n",
    "# y or False if x is less than y\n",
    "answer = None\n",
    "if __ ___ ___:\n",
    "    answer = ___\n",
    "answer"
   ]
  },
  {
   "cell_type": "code",
   "execution_count": null,
   "metadata": {},
   "outputs": [],
   "source": [
    "lst = [\"hi\", \"why\", \"bye\"]\n",
    "\n",
    "# Print the first element in the list\n",
    "print(___)\n",
    "# Print the second element in the list\n",
    "print(___)\n",
    "# Print the last element in the list\n",
    "print(___)"
   ]
  },
  {
   "cell_type": "code",
   "execution_count": null,
   "metadata": {},
   "outputs": [],
   "source": [
    "# Add 5 to the end of the list\n",
    "lst = [1, 2, 3, 4]\n",
    "# REPLACE THIS LINE\n",
    "\n",
    "# Add 5 to the beginning of the list\n",
    "# REPLACE THIS LINE"
   ]
  },
  {
   "cell_type": "code",
   "execution_count": null,
   "metadata": {},
   "outputs": [],
   "source": [
    "lst1 = [1, 2, 3, 4]\n",
    "lst2 = [6, 7, 8, 9]\n",
    "\n",
    "# Combine lst1 and lst2 into one large list s.t. \n",
    "# lst = [1, 2, 3, 4, 6, 7, 8, 9]\n",
    "lst = # REPLACE THIS LINE\n",
    "# Combine lst1 and lst2 into one large list s.t.\n",
    "# lst = [6, 7, 8, 9, 1, 2, 3, 4]\n",
    "lst = # REPLACE THIS LINE"
   ]
  },
  {
   "cell_type": "code",
   "execution_count": null,
   "metadata": {},
   "outputs": [],
   "source": [
    "# Create a list of numbers from 0 to 99 in 1 line of code.\n",
    "# Hint: use the range() function in-built in Python\n",
    "\n",
    "lst = # REPLACE THIS LINE"
   ]
  },
  {
   "cell_type": "code",
   "execution_count": null,
   "metadata": {},
   "outputs": [],
   "source": [
    "# Iterate through the list defined below. Print out the value of each \n",
    "# element and its data type.\n",
    "\n",
    "# For example, if lst = [1, 2, 3], I would print:\n",
    "# 1, int\n",
    "# 2, int\n",
    "# 3, int\n",
    "\n",
    "lst = [\"Hello\", \"world\", 1, True, 2.3]\n",
    "for __ in ___:\n",
    "    print(__)"
   ]
  },
  {
   "cell_type": "code",
   "execution_count": null,
   "metadata": {},
   "outputs": [],
   "source": [
    "# Write a conditional statement to only print the values of the list if\n",
    "# it's greater than 3.\n",
    "# Fill in the blanks below with the correct statements.\n",
    "lst = [1, 2, 3, 4, 5]\n",
    "for __ in ___:\n",
    "    if __ __ __:\n",
    "        print(__)"
   ]
  },
  {
   "cell_type": "code",
   "execution_count": null,
   "metadata": {},
   "outputs": [],
   "source": [
    "# Define a function that takes in two numbers and returns True if the\n",
    "# first number is greater than the second or False if the second number\n",
    "# is greater than the first. \n",
    "# Ex: greater_than(2,3) returns False\n",
    "\n",
    "# REPLACE THE VALUES of the blanks below\n",
    "def greater_than(__, __):\n",
    "    # REPLACE THIS LINE\n",
    "    # REPLACE THIS LINE\n",
    "    # REPLACE THIS LINE\n",
    "\n",
    "answer = greater_than(2,3)\n",
    "answer"
   ]
  },
  {
   "cell_type": "code",
   "execution_count": null,
   "metadata": {},
   "outputs": [],
   "source": [
    "# Define a function that takes in a number and adds 5 to it.\n",
    "# Apply the function to a list of numbers from 1-5\n",
    "def inc_five(__):\n",
    "    # REPLACE THIS LINE\n",
    "\n",
    "lst = list(range(__))\n",
    "new_lst = []\n",
    "for __ in __:\n",
    "    # REPLACE THIS LINE\n",
    "    # REPLACE THIS LINE"
   ]
  },
  {
   "cell_type": "code",
   "execution_count": null,
   "metadata": {},
   "outputs": [],
   "source": [
    "# We have defined the Vehicle class below. \n",
    "class Vehicle:\n",
    "    name = None\n",
    "    kind = None\n",
    "    color = None\n",
    "    value = 100.00\n",
    "    # Required to specify name, kind, and color when creating the object\n",
    "    def __init__(self, name, kind, color):\n",
    "        self.name = name\n",
    "        self.kind = kind\n",
    "        self.color = color\n",
    "        \n",
    "    def description(self):\n",
    "        desc_str = \"%s is a %s %s worth $%.2f.\" % (self.name, \n",
    "                                                   self.color, \n",
    "                                                   self.kind, \n",
    "                                                   self.value)\n",
    "        return desc_str\n",
    "\n",
    "# Create 2 car vehicles called car1 and car2. Set car1 to be a red \n",
    "# convertible with a name of Fer, and car2 to be a blue van named Jump.\n",
    "# Hint: This will take 2 lines of code\n",
    "\n",
    "# Now, set the value of car1 to be $60,000.00 and the value of car2 to be\n",
    "# $10,000.00. Hint: This will take 2 lines of code.\n",
    "\n",
    "# Test code\n",
    "print(car1.description())\n",
    "print(car2.description())"
   ]
  },
  {
   "cell_type": "code",
   "execution_count": null,
   "metadata": {},
   "outputs": [],
   "source": [
    "# Given the dictionary:\n",
    "d = {1:2, 3:4}\n",
    "\n",
    "# Print all the keys of the dictionary. \n",
    "# Hint: There is a dictionary function called keys()\n",
    "print(__)\n",
    "\n",
    "# Print all the values of the dictionary.\n",
    "# Hint: There is a dictionary function called values()\n",
    "print(__)\n",
    "\n",
    "# Print the value associated with the key 1 in d\n",
    "print(__)"
   ]
  },
  {
   "cell_type": "code",
   "execution_count": null,
   "metadata": {},
   "outputs": [],
   "source": [
    "# Define a dictionary where the key \"Hello\" has the value \"World\" and the \n",
    "# key \"Hi\" has the value \"Bye\"\n",
    "\n",
    "d = # REPLACE THIS LINE"
   ]
  },
  {
   "cell_type": "code",
   "execution_count": null,
   "metadata": {},
   "outputs": [],
   "source": [
    "# Define a dictionary d where the keys 1-10 map to 11-20 respectively.\n",
    "# Ex: d[1] = 11, d[2] = 12, ..., d[10] = 20\n",
    "# Hint: this can be done in 2 lines using range, dict, and zip functions\n"
   ]
  }
 ],
 "metadata": {
  "kernelspec": {
   "display_name": "Python 3",
   "language": "python",
   "name": "python3"
  },
  "language_info": {
   "codemirror_mode": {
    "name": "ipython",
    "version": 3
   },
   "file_extension": ".py",
   "mimetype": "text/x-python",
   "name": "python",
   "nbconvert_exporter": "python",
   "pygments_lexer": "ipython3",
   "version": "3.6.5"
  }
 },
 "nbformat": 4,
 "nbformat_minor": 2
}
